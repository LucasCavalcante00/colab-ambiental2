{
 "cells": [
  {
   "cell_type": "code",
   "execution_count": null,
   "id": "ce503f20",
   "metadata": {},
   "outputs": [],
   "source": [
    "!pip install geopandas owslib shapely matplotlib -q"
   ]
  },
  {
   "cell_type": "code",
   "execution_count": null,
   "id": "a70b0854",
   "metadata": {},
   "outputs": [],
   "source": [
    "import geopandas as gpd\n",
    "import matplotlib.pyplot as plt\n",
    "import zipfile, os\n",
    "from google.colab import files\n",
    "from shapely.geometry import Polygon, MultiPolygon\n",
    "from matplotlib.patches import Polygon as MplPolygon\n",
    "from matplotlib.collections import PatchCollection\n",
    "from owslib.wfs import WebFeatureService"
   ]
  },
  {
   "cell_type": "code",
   "execution_count": null,
   "id": "a3b7f3c9",
   "metadata": {},
   "outputs": [],
   "source": [
    "uploaded = files.upload()\n",
    "for filename in uploaded:\n",
    "    if filename.endswith(\".zip\"):\n",
    "        with zipfile.ZipFile(filename, 'r') as zip_ref:\n",
    "            zip_ref.extractall(\"FAZENDA\")\n",
    "\n",
    "def find_shapefile(folder_path):\n",
    "    for root, _, files in os.walk(folder_path):\n",
    "        for file in files:\n",
    "            if file.endswith(\".shp\"):\n",
    "                return os.path.join(root, file)\n",
    "    return None\n",
    "\n",
    "fazenda_fp = find_shapefile(\"FAZENDA\")\n",
    "fazenda = gpd.read_file(fazenda_fp).to_crs(\"EPSG:32721\")"
   ]
  },
  {
   "cell_type": "code",
   "execution_count": null,
   "id": "929db328",
   "metadata": {},
   "outputs": [],
   "source": [
    "def baixar_wfs(tipo, nome):\n",
    "    base_url = \"https://geo.sema.mt.gov.br/geoserver/ows\"\n",
    "    layer = {\n",
    "        \"uso\": \"sema:uso_consolidado_2022\",\n",
    "        \"radam\": \"sema:vegetacao_radambrasil_mt\",\n",
    "        \"uc\": \"sema:unidade_conservacao\",\n",
    "        \"ti\": \"sema:terra_indigena_funai_2020\",\n",
    "        \"mun\": \"sema:limite_municipal\"\n",
    "    }[tipo]\n",
    "    url = f\"{base_url}?service=WFS&version=2.0.0&request=GetFeature&typeName={layer}&outputFormat=application/json\"\n",
    "    gdf = gpd.read_file(url).to_crs(\"EPSG:32721\")\n",
    "    gdf.to_file(f\"{nome}.shp\")\n",
    "    return gdf\n",
    "\n",
    "uso = baixar_wfs(\"uso\", \"uso_consolidado\")\n",
    "radam = baixar_wfs(\"radam\", \"radambrasil\")\n",
    "uc = baixar_wfs(\"uc\", \"unidades_conservacao\")\n",
    "ti = baixar_wfs(\"ti\", \"terras_indigenas\")\n",
    "mun = baixar_wfs(\"mun\", \"limites_municipais\")"
   ]
  },
  {
   "cell_type": "code",
   "execution_count": null,
   "id": "9b33c629",
   "metadata": {},
   "outputs": [],
   "source": [
    "def cor_por_fitoecolog(nome):\n",
    "    nome = nome.lower()\n",
    "    if 'floresta' in nome:\n",
    "        return '#336633'\n",
    "    elif 'cerrado' in nome:\n",
    "        return '#f3e1b4'\n",
    "    else:\n",
    "        return '#dddddd'\n"
   ]
  },
  {
   "cell_type": "code",
   "execution_count": null,
   "id": "80469a88",
   "metadata": {},
   "outputs": [],
   "source": [
    "radam_clip = radam[radam.intersects(fazenda.unary_union)]\n",
    "intersec_radam = gpd.overlay(radam_clip, fazenda, how='intersection')\n",
    "intersec_radam = intersec_radam[intersec_radam.is_valid & ~intersec_radam.is_empty]\n",
    "intersec_radam['cor'] = intersec_radam['FITOECOLOG'].apply(cor_por_fitoecolog)\n",
    "intersec_radam['area_ha'] = intersec_radam.geometry.area / 10000\n",
    "\n",
    "intersec_radam['buffer'] = intersec_radam.buffer(50)\n",
    "fig, ax = plt.subplots(figsize=(12, 12))\n",
    "fazenda.boundary.plot(ax=ax, color='black', linewidth=2.5)\n",
    "for _, row in intersec_radam.iterrows():\n",
    "    color = row['cor']\n",
    "    geom = row['buffer']\n",
    "    if isinstance(geom, Polygon):\n",
    "        patch = MplPolygon(list(geom.exterior.coords))\n",
    "        ax.add_patch(patch)\n",
    "        patch.set_facecolor(color)\n",
    "    elif isinstance(geom, MultiPolygon):\n",
    "        for poly in geom.geoms:\n",
    "            patch = MplPolygon(list(poly.exterior.coords))\n",
    "            ax.add_patch(patch)\n",
    "            patch.set_facecolor(color)\n",
    "plt.title(\"Vegetação RADAMBRASIL\")\n",
    "plt.axis('off')\n",
    "plt.savefig(\"mapa_radam.jpeg\", dpi=300, bbox_inches='tight')\n",
    "plt.show()"
   ]
  },
  {
   "cell_type": "code",
   "execution_count": null,
   "id": "48e4afab",
   "metadata": {},
   "outputs": [],
   "source": [
    "intersec_uso = gpd.overlay(uso, fazenda, how='intersection')\n",
    "intersec_uso['area_ha'] = intersec_uso.geometry.area / 10000\n",
    "fig, ax = plt.subplots(figsize=(12, 12))\n",
    "fazenda.boundary.plot(ax=ax, color='black', linewidth=2.5)\n",
    "intersec_uso.plot(ax=ax, color='orange', edgecolor='black')\n",
    "plt.title(\"Uso Consolidado (SEMA)\")\n",
    "plt.axis('off')\n",
    "plt.savefig(\"mapa_uso.jpeg\", dpi=300, bbox_inches='tight')\n",
    "plt.show()"
   ]
  },
  {
   "cell_type": "code",
   "execution_count": null,
   "id": "5564c872",
   "metadata": {},
   "outputs": [],
   "source": [
    "intersec_uc = gpd.overlay(uc, fazenda, how='intersection')\n",
    "intersec_ti = gpd.overlay(ti, fazenda, how='intersection')\n",
    "intersec_mun = gpd.overlay(mun, fazenda, how='intersection')\n",
    "print(\"ÁREA sobreposta com Unidades de Conservação:\", intersec_uc.area.sum() / 10000, \"ha\")\n",
    "print(\"ÁREA sobreposta com Terras Indígenas:\", intersec_ti.area.sum() / 10000, \"ha\")\n",
    "print(\"Área da fazenda dentro do município:\", intersec_mun.area.sum() / 10000, \"ha\")"
   ]
  },
  {
   "cell_type": "code",
   "execution_count": null,
   "id": "e9387432",
   "metadata": {},
   "outputs": [],
   "source": [
    "files.download(\"mapa_radam.jpeg\")\n",
    "files.download(\"mapa_uso.jpeg\")"
   ]
  }
 ],
 "metadata": {},
 "nbformat": 4,
 "nbformat_minor": 5
}
