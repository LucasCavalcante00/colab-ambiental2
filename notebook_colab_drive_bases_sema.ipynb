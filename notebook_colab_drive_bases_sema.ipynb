{
 "cells": [
  {
   "cell_type": "code",
   "execution_count": null,
   "id": "08938b4d",
   "metadata": {},
   "outputs": [],
   "source": [
    "# ✅ Análise Ambiental com Dados do Google Drive (SEMA-MT)\n",
    "#\n",
    "# Este notebook acessa os arquivos diretamente da pasta:\n",
    "# /Meu Drive/Ia_legislacao/Bases/\n",
    "#\n",
    "# Arquivos esperados:\n",
    "# - VEGETACAO_RADAMBRASIL.zip\n",
    "# - USO_CONSOLIDADO.zip\n",
    "# - UNIDADES_CONSERVACAO.zip\n",
    "# - TERRAS_INDIGENAS.zip\n",
    "# - LIM_MUNICIPIOS_MT.zip\n",
    "#\n",
    "# 🚨 O usuário só precisa fazer o upload de ATP.zip (shape da fazenda)\n"
   ]
  },
  {
   "cell_type": "code",
   "execution_count": null,
   "id": "aaa352fb",
   "metadata": {},
   "outputs": [],
   "source": [
    "!pip install geopandas shapely matplotlib -q"
   ]
  },
  {
   "cell_type": "code",
   "execution_count": null,
   "id": "ab6505ec",
   "metadata": {},
   "outputs": [],
   "source": [
    "import geopandas as gpd\n",
    "import matplotlib.pyplot as plt\n",
    "import zipfile, os\n",
    "from google.colab import drive, files\n",
    "from shapely.geometry import Polygon, MultiPolygon\n",
    "from matplotlib.patches import Polygon as MplPolygon\n",
    "from matplotlib.collections import PatchCollection"
   ]
  },
  {
   "cell_type": "code",
   "execution_count": null,
   "id": "c19bbf35",
   "metadata": {},
   "outputs": [],
   "source": [
    "drive.mount('/content/drive')\n",
    "base_dir = \"/content/drive/MyDrive/Ia_legislacao/Bases/\""
   ]
  },
  {
   "cell_type": "code",
   "execution_count": null,
   "id": "9b577b1f",
   "metadata": {},
   "outputs": [],
   "source": [
    "def unzip_file(zip_path, extract_to):\n",
    "    with zipfile.ZipFile(zip_path, 'r') as zip_ref:\n",
    "        zip_ref.extractall(extract_to)\n",
    "\n",
    "def find_shapefile(folder_path):\n",
    "    for root, _, files in os.walk(folder_path):\n",
    "        for file in files:\n",
    "            if file.endswith(\".shp\"):\n",
    "                return os.path.join(root, file)\n",
    "    return None"
   ]
  },
  {
   "cell_type": "code",
   "execution_count": null,
   "id": "cb67ba68",
   "metadata": {},
   "outputs": [],
   "source": [
    "print(\"📂 Envie o arquivo ATP.zip (shapefile da fazenda)...\")\n",
    "uploaded = files.upload()\n",
    "unzip_file(\"ATP.zip\", \"ATP\")"
   ]
  },
  {
   "cell_type": "code",
   "execution_count": null,
   "id": "f76b62ca",
   "metadata": {},
   "outputs": [],
   "source": [
    "unzip_file(os.path.join(base_dir, 'VEGETACAO_RADAMBRASIL.zip'), 'RADAM')\n",
    "unzip_file(os.path.join(base_dir, 'USO_CONSOLIDADO.zip'), 'USO')\n",
    "unzip_file(os.path.join(base_dir, 'UNIDADES_CONSERVACAO.zip'), 'UC')\n",
    "unzip_file(os.path.join(base_dir, 'TERRAS_INDIGENAS.zip'), 'TI')\n",
    "unzip_file(os.path.join(base_dir, 'LIM_MUNICIPIOS_MT.zip'), 'MUN')"
   ]
  },
  {
   "cell_type": "code",
   "execution_count": null,
   "id": "7bc5631b",
   "metadata": {},
   "outputs": [],
   "source": [
    "fazenda = gpd.read_file(find_shapefile('ATP')).to_crs(\"EPSG:32721\")\n",
    "radam = gpd.read_file(find_shapefile('RADAM')).to_crs(\"EPSG:32721\")\n",
    "uso = gpd.read_file(find_shapefile('USO')).to_crs(\"EPSG:32721\")\n",
    "uc = gpd.read_file(find_shapefile('UC')).to_crs(\"EPSG:32721\")\n",
    "ti = gpd.read_file(find_shapefile('TI')).to_crs(\"EPSG:32721\")\n",
    "mun = gpd.read_file(find_shapefile('MUN')).to_crs(\"EPSG:32721\")"
   ]
  },
  {
   "cell_type": "code",
   "execution_count": null,
   "id": "47fd7d87",
   "metadata": {},
   "outputs": [],
   "source": [
    "def cor_por_fitoecolog(nome):\n",
    "    nome = nome.lower()\n",
    "    if 'floresta' in nome:\n",
    "        return '#336633'\n",
    "    elif 'cerrado' in nome:\n",
    "        return '#f3e1b4'\n",
    "    else:\n",
    "        return '#dddddd' "
   ]
  },
  {
   "cell_type": "code",
   "execution_count": null,
   "id": "40001e2e",
   "metadata": {},
   "outputs": [],
   "source": [
    "radam_clip = radam[radam.intersects(fazenda.unary_union)]\n",
    "intersec_radam = gpd.overlay(radam_clip, fazenda, how='intersection')\n",
    "intersec_radam = intersec_radam[intersec_radam.is_valid & ~intersec_radam.is_empty]\n",
    "intersec_radam['cor'] = intersec_radam['FITOECOLOG'].apply(cor_por_fitoecolog)\n",
    "intersec_radam['area_ha'] = intersec_radam.geometry.area / 10000\n",
    "intersec_radam['buffer'] = intersec_radam.buffer(50)\n",
    "\n",
    "fig, ax = plt.subplots(figsize=(12, 12))\n",
    "fazenda.boundary.plot(ax=ax, color='black', linewidth=2.5)\n",
    "for _, row in intersec_radam.iterrows():\n",
    "    color = row['cor']\n",
    "    geom = row['buffer']\n",
    "    if isinstance(geom, Polygon):\n",
    "        patch = MplPolygon(list(geom.exterior.coords))\n",
    "        ax.add_patch(patch)\n",
    "        patch.set_facecolor(color)\n",
    "    elif isinstance(geom, MultiPolygon):\n",
    "        for poly in geom.geoms:\n",
    "            patch = MplPolygon(list(poly.exterior.coords))\n",
    "            ax.add_patch(patch)\n",
    "            patch.set_facecolor(color)\n",
    "plt.title(\"Vegetação RADAMBRASIL\")\n",
    "plt.axis('off')\n",
    "plt.savefig(\"mapa_radam.jpeg\", dpi=300, bbox_inches='tight')\n",
    "plt.show()"
   ]
  },
  {
   "cell_type": "code",
   "execution_count": null,
   "id": "a914a5e8",
   "metadata": {},
   "outputs": [],
   "source": [
    "intersec_uso = gpd.overlay(uso, fazenda, how='intersection')\n",
    "intersec_uso['area_ha'] = intersec_uso.geometry.area / 10000\n",
    "fig, ax = plt.subplots(figsize=(12, 12))\n",
    "fazenda.boundary.plot(ax=ax, color='black', linewidth=2.5)\n",
    "intersec_uso.plot(ax=ax, color='orange', edgecolor='black')\n",
    "plt.title(\"Uso Consolidado (SEMA)\")\n",
    "plt.axis('off')\n",
    "plt.savefig(\"mapa_uso.jpeg\", dpi=300, bbox_inches='tight')\n",
    "plt.show()"
   ]
  },
  {
   "cell_type": "code",
   "execution_count": null,
   "id": "72d5e133",
   "metadata": {},
   "outputs": [],
   "source": [
    "intersec_uc = gpd.overlay(uc, fazenda, how='intersection')\n",
    "intersec_ti = gpd.overlay(ti, fazenda, how='intersection')\n",
    "intersec_mun = gpd.overlay(mun, fazenda, how='intersection')\n",
    "print(\"🌱 UC:\", intersec_uc.area.sum() / 10000, \"ha\")\n",
    "print(\"🧬 TI:\", intersec_ti.area.sum() / 10000, \"ha\")\n",
    "print(\"📍 Município:\", intersec_mun.area.sum() / 10000, \"ha\")"
   ]
  },
  {
   "cell_type": "code",
   "execution_count": null,
   "id": "913f35ab",
   "metadata": {},
   "outputs": [],
   "source": [
    "files.download(\"mapa_radam.jpeg\")\n",
    "files.download(\"mapa_uso.jpeg\")"
   ]
  }
 ],
 "metadata": {},
 "nbformat": 4,
 "nbformat_minor": 5
}
